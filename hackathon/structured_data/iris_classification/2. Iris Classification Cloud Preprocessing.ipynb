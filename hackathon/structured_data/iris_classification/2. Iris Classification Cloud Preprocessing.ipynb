{
 "cells": [
  {
   "cell_type": "markdown",
   "metadata": {},
   "source": [
    "<a name=\"about\"></a>\n",
    "About this notebook\n",
    "======\n",
    "\n",
    "This notebook assumes you have ran the local Iris classification notebook and you have not deleted the LOCAL_ROOT folder. In this notebook, we will use BigQuery to preprocess the data files. "
   ]
  },
  {
   "cell_type": "markdown",
   "metadata": {},
   "source": [
    "<a name=\"setup\"></a>\n",
    "Setting things up\n",
    "====="
   ]
  },
  {
   "cell_type": "code",
   "execution_count": 1,
   "metadata": {
    "collapsed": false
   },
   "outputs": [],
   "source": [
    "import datalab_structured_data as sd"
   ]
  },
  {
   "cell_type": "markdown",
   "metadata": {},
   "source": [
    "Lets look at the versions of datalab_structured_data and TF we have. Make sure TF and SD are 1.0.0"
   ]
  },
  {
   "cell_type": "code",
   "execution_count": 2,
   "metadata": {
    "collapsed": false
   },
   "outputs": [
    {
     "name": "stdout",
     "output_type": "stream",
     "text": [
      "tf 1.0.0\n",
      "sd 1.0.0\n"
     ]
    }
   ],
   "source": [
    "import os\n",
    "\n",
    "import tensorflow as tf\n",
    "from tensorflow.python.lib.io import file_io\n",
    "\n",
    "import datalab.ml as ml\n",
    "\n",
    "print('tf ' + str(tf.__version__))\n",
    "print('sd ' + str(sd.__version__))"
   ]
  },
  {
   "cell_type": "markdown",
   "metadata": {},
   "source": [
    "This notebook will write files during preprocessing. Please give a root folder you wish to use."
   ]
  },
  {
   "cell_type": "code",
   "execution_count": 3,
   "metadata": {
    "collapsed": false
   },
   "outputs": [
    {
     "name": "stdout",
     "output_type": "stream",
     "text": [
      "Creating gs://cloud-ml-dev-iris-classification-datalab/...\n",
      "ServiceException: 409 Bucket cloud-ml-dev-iris-classification-datalab already exists.\n"
     ]
    }
   ],
   "source": [
    "LOCAL_ROOT = './iris_notebook_workspace' # This should be the same as what was used in the local iris notebook\n",
    "CLOUD_ROOT = 'gs://' + datalab_project_id() + '-iris-classification-datalab' # Feel free to change this line.\n",
    "\n",
    "# No need to edit anything else in this cell.\n",
    "LOCAL_PREPROCESSING_DIR = os.path.join(LOCAL_ROOT, 'preprocessing')\n",
    "CLOUD_PREPROCESSING_DIR = os.path.join(CLOUD_ROOT, 'cloud_preprocessing') \n",
    "\n",
    "LOCAL_TRAIN_FILE = os.path.join(LOCAL_ROOT, 'train.csv')\n",
    "CLOUD_TRAIN_FILE = os.path.join(CLOUD_ROOT, 'train.csv')\n",
    "\n",
    "\n",
    "LOCAL_SCHEMA_FILE = os.path.join(LOCAL_ROOT, 'schema.json')\n",
    "CLOUD_SCHEMA_FILE = os.path.join(CLOUD_ROOT, 'schema.json')\n",
    "\n",
    "if not file_io.file_exists(LOCAL_ROOT):\n",
    "  raise ValueError('LOCAL_ROOT not found. Did you run the local notebook?')\n",
    "  \n",
    "!gsutil mb {CLOUD_ROOT}"
   ]
  },
  {
   "cell_type": "markdown",
   "metadata": {},
   "source": [
    "First, let us put the csv files on GCS"
   ]
  },
  {
   "cell_type": "code",
   "execution_count": 4,
   "metadata": {
    "collapsed": false
   },
   "outputs": [
    {
     "name": "stdout",
     "output_type": "stream",
     "text": [
      "Copying file://./iris_notebook_workspace/train.csv [Content-Type=text/csv]...\n",
      "/ [1 files][  3.8 KiB/  3.8 KiB]                                                \n",
      "Operation completed over 1 objects/3.8 KiB.                                      \n"
     ]
    }
   ],
   "source": [
    "!gsutil cp {LOCAL_TRAIN_FILE} {CLOUD_TRAIN_FILE}\n",
    "!gsutil cp {LOCAL_SCHEMA_FILE} {CLOUD_SCHEMA_FILE}"
   ]
  },
  {
   "cell_type": "markdown",
   "metadata": {},
   "source": [
    "<a name=\"local_preprocessing\"></a>\n",
    "Preprocessing with BigQuery starting from csv files on GCS\n",
    "====="
   ]
  },
  {
   "cell_type": "code",
   "execution_count": 5,
   "metadata": {
    "collapsed": false
   },
   "outputs": [
    {
     "name": "stdout",
     "output_type": "stream",
     "text": [
      "Removing gs://cloud-ml-dev-iris-classification-datalab/cloud_preprocessing/numerical_analysis.json#1488319962597890...\n",
      "Removing gs://cloud-ml-dev-iris-classification-datalab/cloud_preprocessing/schema.json#1488319966184631...\n",
      "Removing gs://cloud-ml-dev-iris-classification-datalab/cloud_preprocessing/vocab_flower.csv#1488319965355094...\n",
      "/ [3 objects]                                                                   \n",
      "Operation completed over 3 objects.                                              \n"
     ]
    }
   ],
   "source": [
    "!gsutil rm -fr {CLOUD_PREPROCESSING_DIR}"
   ]
  },
  {
   "cell_type": "code",
   "execution_count": 6,
   "metadata": {
    "collapsed": false
   },
   "outputs": [],
   "source": [
    "train_csv = ml.CsvDataSet(\n",
    "  file_pattern=CLOUD_TRAIN_FILE,\n",
    "  schema_file=CLOUD_SCHEMA_FILE)"
   ]
  },
  {
   "cell_type": "code",
   "execution_count": 7,
   "metadata": {
    "collapsed": false
   },
   "outputs": [
    {
     "name": "stdout",
     "output_type": "stream",
     "text": [
      "Starting cloud preprocessing.\n",
      "Track BigQuery status at\n",
      "https://bigquery.cloud.google.com/queries/cloud-ml-dev\n",
      "Running numerical analysis...done.\n",
      "Running categorical analysis...done.\n",
      "Cloud preprocessing done.\n"
     ]
    }
   ],
   "source": [
    "sd.cloud_preprocess(\n",
    "  dataset=train_csv,\n",
    "  output_dir=CLOUD_PREPROCESSING_DIR,\n",
    ")"
   ]
  },
  {
   "cell_type": "markdown",
   "metadata": {},
   "source": [
    "The output of preprocessing is a numerical_analysis file that contains analysis from the numerical columns, and a vocab file from each categorical column. The files produced by preprocessing are consumed in training, and you should not have to worry about these files. Just for fun, lets look at them."
   ]
  },
  {
   "cell_type": "code",
   "execution_count": 8,
   "metadata": {
    "collapsed": false
   },
   "outputs": [
    {
     "name": "stdout",
     "output_type": "stream",
     "text": [
      "gs://cloud-ml-dev-iris-classification-datalab/cloud_preprocessing/numerical_analysis.json\r\n",
      "gs://cloud-ml-dev-iris-classification-datalab/cloud_preprocessing/schema.json\r\n",
      "gs://cloud-ml-dev-iris-classification-datalab/cloud_preprocessing/vocab_flower.csv\r\n"
     ]
    }
   ],
   "source": [
    "!gsutil ls  {CLOUD_PREPROCESSING_DIR}"
   ]
  },
  {
   "cell_type": "code",
   "execution_count": 9,
   "metadata": {
    "collapsed": false
   },
   "outputs": [
    {
     "name": "stdout",
     "output_type": "stream",
     "text": [
      "Iris-setosa\r\n",
      "Iris-versicolor\r\n",
      "Iris-virginica\r\n"
     ]
    }
   ],
   "source": [
    "!gsutil cat  {CLOUD_PREPROCESSING_DIR}/vocab_flower.csv"
   ]
  },
  {
   "cell_type": "code",
   "execution_count": 10,
   "metadata": {
    "collapsed": false
   },
   "outputs": [
    {
     "name": "stdout",
     "output_type": "stream",
     "text": [
      "{\r\n",
      "  \"sepal_width\": {\r\n",
      "    \"max\": 4.4000000000000004,\r\n",
      "    \"mean\": 3.050833333333332,\r\n",
      "    \"min\": 2.0\r\n",
      "  },\r\n",
      "  \"petal_width\": {\r\n",
      "    \"max\": 2.5,\r\n",
      "    \"mean\": 1.2324999999999995,\r\n",
      "    \"min\": 0.10000000000000001\r\n",
      "  },\r\n",
      "  \"sepal_length\": {\r\n",
      "    \"max\": 7.9000000000000004,\r\n",
      "    \"mean\": 5.8675000000000024,\r\n",
      "    \"min\": 4.2999999999999998\r\n",
      "  },\r\n",
      "  \"key\": {\r\n",
      "    \"max\": 150.0,\r\n",
      "    \"mean\": 76.733333333333334,\r\n",
      "    \"min\": 1.0\r\n",
      "  },\r\n",
      "  \"petal_length\": {\r\n",
      "    \"max\": 6.9000000000000004,\r\n",
      "    \"mean\": 3.8308333333333349,\r\n",
      "    \"min\": 1.1000000000000001\r\n",
      "  }\r\n",
      "}"
     ]
    }
   ],
   "source": [
    "!gsutil cat  {CLOUD_PREPROCESSING_DIR}/numerical_analysis.json"
   ]
  },
  {
   "cell_type": "markdown",
   "metadata": {},
   "source": [
    "Cleaning things up\n",
    "====="
   ]
  },
  {
   "cell_type": "markdown",
   "metadata": {},
   "source": [
    "If you want to delete the files you made on GCS, uncomment and run the next cell."
   ]
  },
  {
   "cell_type": "code",
   "execution_count": 11,
   "metadata": {
    "collapsed": false
   },
   "outputs": [],
   "source": [
    "#!gsutil rm -fr {CLOUD_ROOT}"
   ]
  }
 ],
 "metadata": {
  "kernelspec": {
   "display_name": "Python 2",
   "language": "python",
   "name": "python2"
  },
  "language_info": {
   "codemirror_mode": {
    "name": "ipython",
    "version": 2
   },
   "file_extension": ".py",
   "mimetype": "text/x-python",
   "name": "python",
   "nbconvert_exporter": "python",
   "pygments_lexer": "ipython2",
   "version": "2.7.9"
  }
 },
 "nbformat": 4,
 "nbformat_minor": 2
}

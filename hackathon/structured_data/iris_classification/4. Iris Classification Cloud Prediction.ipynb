{
 "cells": [
  {
   "cell_type": "markdown",
   "metadata": {},
   "source": [
    "<a name=\"about\"></a>\n",
    "About this notebook\n",
    "======\n",
    "\n",
    "This notebook assumes you have ran the local Iris notebook and you have not deleted the LOCAL_ROOT folder. In this notebook, we will use online prediction on a pre-trained Tensorflow model. This notebook will does not assume that the notebook \"3. Iris Classification Cloud Training\" was executed."
   ]
  },
  {
   "cell_type": "markdown",
   "metadata": {},
   "source": [
    "<a name=\"setup\"></a>\n",
    "Setting things up\n",
    "====="
   ]
  },
  {
   "cell_type": "code",
   "execution_count": 5,
   "metadata": {
    "collapsed": false
   },
   "outputs": [],
   "source": [
    "import datalab_structured_data as sd"
   ]
  },
  {
   "cell_type": "code",
   "execution_count": 6,
   "metadata": {
    "collapsed": false
   },
   "outputs": [
    {
     "name": "stdout",
     "output_type": "stream",
     "text": [
      "tf 1.0.0\n",
      "sd 1.0.0\n"
     ]
    }
   ],
   "source": [
    "import os\n",
    "import pandas as pd\n",
    "\n",
    "import tensorflow as tf\n",
    "from tensorflow.python.lib.io import file_io"
   ]
  },
  {
   "cell_type": "markdown",
   "metadata": {},
   "source": [
    "This notebook will write files during prediction. Please give a root folder you wish to use."
   ]
  },
  {
   "cell_type": "code",
   "execution_count": 7,
   "metadata": {
    "collapsed": false
   },
   "outputs": [
    {
     "name": "stdout",
     "output_type": "stream",
     "text": [
      "Creating gs://cloud-ml-dev-iris-classification-datalab/...\n",
      "ServiceException: 409 Bucket cloud-ml-dev-iris-classification-datalab already exists.\n"
     ]
    }
   ],
   "source": [
    "LOCAL_ROOT = './iris_notebook_workspace' # This should be the same as what was used in the local notebook\n",
    "CLOUD_ROOT = 'gs://' + datalab_project_id() + '-iris-classification-datalab' # Feel free to change this line.\n",
    "\n",
    "# No need to edit anything else in this cell.\n",
    "LOCAL_TRAINING_DIR = os.path.join(LOCAL_ROOT, 'training')\n",
    "CLOUD_TRAINING_DIR = os.path.join(CLOUD_ROOT, 'training')\n",
    "\n",
    "if not file_io.file_exists(LOCAL_ROOT):\n",
    "  raise ValueError('LOCAL_ROOT not found. Did you run the local notebook?')\n",
    "  \n",
    "!gsutil mb {CLOUD_ROOT}"
   ]
  },
  {
   "cell_type": "markdown",
   "metadata": {},
   "source": [
    "First, let us put the csv files on GCS and the output of training."
   ]
  },
  {
   "cell_type": "code",
   "execution_count": 8,
   "metadata": {
    "collapsed": false
   },
   "outputs": [
    {
     "name": "stdout",
     "output_type": "stream",
     "text": [
      "Copying file://./iris_notebook_workspace/training/model/saved_model.pb [Content-Type=application/octet-stream]...\n",
      "Copying file://./iris_notebook_workspace/training/transforms_file.json [Content-Type=application/json]...\n",
      "Copying file://./iris_notebook_workspace/training/evaluation_model/assets.extra/schema.json [Content-Type=application/json]...\n",
      "Copying file://./iris_notebook_workspace/training/model/assets.extra/schema.json [Content-Type=application/json]...\n",
      "Copying file://./iris_notebook_workspace/training/model/variables/variables.index [Content-Type=application/octet-stream]...\n",
      "Copying file://./iris_notebook_workspace/training/model/variables/variables.data-00000-of-00001 [Content-Type=application/octet-stream]...\n",
      "Copying file://./iris_notebook_workspace/training/evaluation_model/saved_model.pb [Content-Type=application/octet-stream]...\n",
      "Copying file://./iris_notebook_workspace/training/evaluation_model/assets.extra/transforms.json [Content-Type=application/json]...\n",
      "Copying file://./iris_notebook_workspace/training/evaluation_model/assets.extra/vocab_flower.csv [Content-Type=text/csv]...\n",
      "Copying file://./iris_notebook_workspace/training/model/assets.extra/vocab_flower.csv [Content-Type=text/csv]...\n",
      "Copying file://./iris_notebook_workspace/training/train/graph.pbtxt [Content-Type=application/octet-stream]...\n",
      "Copying file://./iris_notebook_workspace/training/train/events.out.tfevents.1488320539.d9f01ebcdba5 [Content-Type=application/octet-stream]...\n",
      "Copying file://./iris_notebook_workspace/training/evaluation_model/variables/variables.index [Content-Type=application/octet-stream]...\n",
      "Copying file://./iris_notebook_workspace/training/model/assets.extra/transforms.json [Content-Type=application/json]...\n",
      "Copying file://./iris_notebook_workspace/training/train/checkpoint [Content-Type=application/octet-stream]...\n",
      "Copying file://./iris_notebook_workspace/training/evaluation_model/variables/variables.data-00000-of-00001 [Content-Type=application/octet-stream]...\n",
      "Copying file://./iris_notebook_workspace/training/train/model.ckpt-1000.data-00000-of-00001 [Content-Type=application/octet-stream]...\n",
      "Copying file://./iris_notebook_workspace/training/train/model.ckpt-1000.index [Content-Type=application/octet-stream]...\n",
      "Copying file://./iris_notebook_workspace/training/train/model.ckpt-1000.meta [Content-Type=application/octet-stream]...\n",
      "Copying file://./iris_notebook_workspace/training/train/model.ckpt-1.data-00000-of-00001 [Content-Type=application/octet-stream]...\n",
      "Copying file://./iris_notebook_workspace/training/train/model.ckpt-1.meta [Content-Type=application/octet-stream]...\n",
      "Copying file://./iris_notebook_workspace/training/train/model.ckpt-1.index [Content-Type=application/octet-stream]...\n",
      "Copying file://./iris_notebook_workspace/training/train/eval/events.out.tfevents.1488320546.d9f01ebcdba5 [Content-Type=application/octet-stream]...\n",
      "Copying file://./iris_notebook_workspace/training/train/export/intermediate_prediction_models/1488320547453/variables/variables.index [Content-Type=application/octet-stream]...\n",
      "Copying file://./iris_notebook_workspace/training/train/export/intermediate_prediction_models/1488320547453/saved_model.pb [Content-Type=application/octet-stream]...\n",
      "Copying file://./iris_notebook_workspace/training/train/export/intermediate_evaluation_models/1488320546927/variables/variables.index [Content-Type=application/octet-stream]...\n",
      "Copying file://./iris_notebook_workspace/training/train/export/intermediate_prediction_models/1488320547453/variables/variables.data-00000-of-00001 [Content-Type=application/octet-stream]...\n",
      "Copying file://./iris_notebook_workspace/training/train/export/intermediate_evaluation_models/1488320546927/variables/variables.data-00000-of-00001 [Content-Type=application/octet-stream]...\n",
      "Copying file://./iris_notebook_workspace/training/train/export/intermediate_evaluation_models/1488320546927/assets.extra/vocab_flower.csv [Content-Type=text/csv]...\n",
      "Copying file://./iris_notebook_workspace/training/train/export/intermediate_evaluation_models/1488320546927/saved_model.pb [Content-Type=application/octet-stream]...\n",
      "Copying file://./iris_notebook_workspace/training/train/export/intermediate_prediction_models/1488320547453/assets.extra/transforms.json [Content-Type=application/json]...\n",
      "Copying file://./iris_notebook_workspace/training/train/export/intermediate_evaluation_models/1488320546927/assets.extra/schema.json [Content-Type=application/json]...\n",
      "Copying file://./iris_notebook_workspace/training/train/export/intermediate_evaluation_models/1488320546927/assets.extra/transforms.json [Content-Type=application/json]...\n",
      "Copying file://./iris_notebook_workspace/training/train/export/intermediate_prediction_models/1488320547453/assets.extra/vocab_flower.csv [Content-Type=text/csv]...\n",
      "Copying file://./iris_notebook_workspace/training/train/export/intermediate_prediction_models/1488320547453/assets.extra/schema.json [Content-Type=application/json]...\n",
      "\\\n",
      "Operation completed over 35 objects/1.2 MiB.                                     \n"
     ]
    }
   ],
   "source": [
    "!gsutil -m cp -r {LOCAL_TRAINING_DIR} {CLOUD_TRAINING_DIR}"
   ]
  },
  {
   "cell_type": "code",
   "execution_count": 9,
   "metadata": {
    "collapsed": false
   },
   "outputs": [
    {
     "name": "stdout",
     "output_type": "stream",
     "text": [
      "gs://cloud-ml-dev-iris-classification-datalab/training/transforms_file.json\r\n",
      "gs://cloud-ml-dev-iris-classification-datalab/training/evaluation_model/\r\n",
      "gs://cloud-ml-dev-iris-classification-datalab/training/model/\r\n",
      "gs://cloud-ml-dev-iris-classification-datalab/training/train/\r\n"
     ]
    }
   ],
   "source": [
    "!gsutil ls {CLOUD_TRAINING_DIR}"
   ]
  },
  {
   "cell_type": "markdown",
   "metadata": {},
   "source": [
    "Online Prediction using ML Engine\n",
    "=========="
   ]
  },
  {
   "cell_type": "markdown",
   "metadata": {},
   "source": [
    "We first have to deploy the model, and then we can make requests on it."
   ]
  },
  {
   "cell_type": "code",
   "execution_count": 10,
   "metadata": {
    "collapsed": false
   },
   "outputs": [
    {
     "name": "stdout",
     "output_type": "stream",
     "text": [
      "Creating version (this might take a few minutes)......done.\n"
     ]
    }
   ],
   "source": [
    "!gcloud beta ml models create iris_model --regions=us-central1\n",
    "!gcloud beta ml versions create v1 --model iris_model --origin {CLOUD_ROOT}/training/model"
   ]
  },
  {
   "cell_type": "code",
   "execution_count": 11,
   "metadata": {
    "collapsed": false
   },
   "outputs": [
    {
     "data": {
      "text/html": [
       "<div>\n",
       "<table border=\"1\" class=\"dataframe\">\n",
       "  <thead>\n",
       "    <tr style=\"text-align: right;\">\n",
       "      <th></th>\n",
       "      <th>key</th>\n",
       "      <th>top_1_label</th>\n",
       "      <th>top_1_score</th>\n",
       "      <th>top_2_label</th>\n",
       "      <th>top_2_score</th>\n",
       "      <th>top_3_label</th>\n",
       "      <th>top_3_score</th>\n",
       "    </tr>\n",
       "  </thead>\n",
       "  <tbody>\n",
       "    <tr>\n",
       "      <th>0</th>\n",
       "      <td>101</td>\n",
       "      <td>Iris-virginica</td>\n",
       "      <td>0.940259</td>\n",
       "      <td>Iris-versicolor</td>\n",
       "      <td>0.0597013</td>\n",
       "      <td>Iris-setosa</td>\n",
       "      <td>3.96256e-05</td>\n",
       "    </tr>\n",
       "    <tr>\n",
       "      <th>1</th>\n",
       "      <td>100</td>\n",
       "      <td>Iris-versicolor</td>\n",
       "      <td>0.840116</td>\n",
       "      <td>Iris-virginica</td>\n",
       "      <td>0.145837</td>\n",
       "      <td>Iris-setosa</td>\n",
       "      <td>0.0140476</td>\n",
       "    </tr>\n",
       "    <tr>\n",
       "      <th>2</th>\n",
       "      <td>13</td>\n",
       "      <td>Iris-setosa</td>\n",
       "      <td>0.952213</td>\n",
       "      <td>Iris-versicolor</td>\n",
       "      <td>0.0477338</td>\n",
       "      <td>Iris-virginica</td>\n",
       "      <td>5.28481e-05</td>\n",
       "    </tr>\n",
       "  </tbody>\n",
       "</table>\n",
       "</div>"
      ],
      "text/plain": [
       "   key      top_1_label top_1_score      top_2_label top_2_score  \\\n",
       "0  101   Iris-virginica    0.940259  Iris-versicolor   0.0597013   \n",
       "1  100  Iris-versicolor    0.840116   Iris-virginica    0.145837   \n",
       "2   13      Iris-setosa    0.952213  Iris-versicolor   0.0477338   \n",
       "\n",
       "      top_3_label  top_3_score  \n",
       "0     Iris-setosa  3.96256e-05  \n",
       "1     Iris-setosa    0.0140476  \n",
       "2  Iris-virginica  5.28481e-05  "
      ]
     },
     "execution_count": 11,
     "metadata": {},
     "output_type": "execute_result"
    }
   ],
   "source": [
    "sd.cloud_predict(\n",
    "  model_name='iris_model',\n",
    "  model_version='v1',\n",
    "  data=['101,6.3,3.3,6,2.5', #virginica\n",
    "        '100,5.7,2.8,4.1,1.3', #versicolor\n",
    "        '13,4.8,3,1.4,0.1', #setosa\n",
    "  ]\n",
    ")"
   ]
  },
  {
   "cell_type": "code",
   "execution_count": 12,
   "metadata": {
    "collapsed": false
   },
   "outputs": [
    {
     "data": {
      "text/html": [
       "<div>\n",
       "<table border=\"1\" class=\"dataframe\">\n",
       "  <thead>\n",
       "    <tr style=\"text-align: right;\">\n",
       "      <th></th>\n",
       "      <th>key</th>\n",
       "      <th>top_1_label</th>\n",
       "      <th>top_1_score</th>\n",
       "      <th>top_2_label</th>\n",
       "      <th>top_2_score</th>\n",
       "      <th>top_3_label</th>\n",
       "      <th>top_3_score</th>\n",
       "    </tr>\n",
       "  </thead>\n",
       "  <tbody>\n",
       "    <tr>\n",
       "      <th>0</th>\n",
       "      <td>101</td>\n",
       "      <td>Iris-virginica</td>\n",
       "      <td>0.940259</td>\n",
       "      <td>Iris-versicolor</td>\n",
       "      <td>0.0597013</td>\n",
       "      <td>Iris-setosa</td>\n",
       "      <td>3.96256e-05</td>\n",
       "    </tr>\n",
       "    <tr>\n",
       "      <th>1</th>\n",
       "      <td>100</td>\n",
       "      <td>Iris-versicolor</td>\n",
       "      <td>0.840116</td>\n",
       "      <td>Iris-virginica</td>\n",
       "      <td>0.145837</td>\n",
       "      <td>Iris-setosa</td>\n",
       "      <td>0.0140476</td>\n",
       "    </tr>\n",
       "    <tr>\n",
       "      <th>2</th>\n",
       "      <td>13</td>\n",
       "      <td>Iris-setosa</td>\n",
       "      <td>0.952213</td>\n",
       "      <td>Iris-versicolor</td>\n",
       "      <td>0.0477338</td>\n",
       "      <td>Iris-virginica</td>\n",
       "      <td>5.28481e-05</td>\n",
       "    </tr>\n",
       "  </tbody>\n",
       "</table>\n",
       "</div>"
      ],
      "text/plain": [
       "   key      top_1_label top_1_score      top_2_label top_2_score  \\\n",
       "0  101   Iris-virginica    0.940259  Iris-versicolor   0.0597013   \n",
       "1  100  Iris-versicolor    0.840116   Iris-virginica    0.145837   \n",
       "2   13      Iris-setosa    0.952213  Iris-versicolor   0.0477338   \n",
       "\n",
       "      top_3_label  top_3_score  \n",
       "0     Iris-setosa  3.96256e-05  \n",
       "1     Iris-setosa    0.0140476  \n",
       "2  Iris-virginica  5.28481e-05  "
      ]
     },
     "execution_count": 12,
     "metadata": {},
     "output_type": "execute_result"
    }
   ],
   "source": [
    "sd.cloud_predict(\n",
    "  model_name='iris_model',\n",
    "  model_version='v1',\n",
    "  data=pd.DataFrame(\n",
    "    [[101,6.3,3.3,6,2.5],\n",
    "     [100,5.7,2.8,4.1,1.3],\n",
    "     [13,4.8,3,1.4,0.1]])\n",
    ")"
   ]
  },
  {
   "cell_type": "markdown",
   "metadata": {},
   "source": [
    "Cleaning things up\n",
    "====="
   ]
  },
  {
   "cell_type": "markdown",
   "metadata": {},
   "source": [
    "If you want to delete the files you made on GCS, uncomment and run the next cell."
   ]
  },
  {
   "cell_type": "code",
   "execution_count": 13,
   "metadata": {
    "collapsed": false
   },
   "outputs": [
    {
     "name": "stdout",
     "output_type": "stream",
     "text": [
      "Removing gs://cloud-ml-dev-iris-classification-datalab/eval.csv#1488321127402905...\n",
      "Removing gs://cloud-ml-dev-iris-classification-datalab/features.json#1488321128997494...\n",
      "Removing gs://cloud-ml-dev-iris-classification-datalab/schema.json#1488321130576766...\n",
      "Removing gs://cloud-ml-dev-iris-classification-datalab/train.csv#1488321125806455...\n",
      "\n",
      "==> NOTE: You are performing a sequence of gsutil operations that may\n",
      "run significantly faster if you instead use gsutil -m -o ... Please\n",
      "see the -m section under \"gsutil help options\" for further information\n",
      "about when gsutil -m can be advantageous.\n",
      "\n",
      "Removing gs://cloud-ml-dev-iris-classification-datalab/cloud_preprocessing/numerical_analysis.json#1488320199532737...\n",
      "Removing gs://cloud-ml-dev-iris-classification-datalab/cloud_preprocessing/preprocessing/numerical_analysis.json#1488321132233716...\n",
      "Removing gs://cloud-ml-dev-iris-classification-datalab/cloud_preprocessing/preprocessing/schema.json#1488321132248018...\n",
      "Removing gs://cloud-ml-dev-iris-classification-datalab/cloud_preprocessing/preprocessing/vocab_flower.csv#1488321132256688...\n",
      "Removing gs://cloud-ml-dev-iris-classification-datalab/cloud_preprocessing/schema.json#1488320203332423...\n",
      "Removing gs://cloud-ml-dev-iris-classification-datalab/cloud_preprocessing/vocab_flower.csv#1488320202643173...\n",
      "Removing gs://cloud-ml-dev-iris-classification-datalab/cloud_training/evaluation_model/#1488321901982116...\n",
      "Removing gs://cloud-ml-dev-iris-classification-datalab/cloud_training/evaluation_model/assets.extra/#1488321904817598...\n",
      "Removing gs://cloud-ml-dev-iris-classification-datalab/cloud_training/evaluation_model/assets.extra/schema.json#1488321905562690...\n",
      "Removing gs://cloud-ml-dev-iris-classification-datalab/cloud_training/evaluation_model/assets.extra/transforms.json#1488321906276152...\n",
      "Removing gs://cloud-ml-dev-iris-classification-datalab/cloud_training/evaluation_model/assets.extra/vocab_flower.csv#1488321907214527...\n",
      "Removing gs://cloud-ml-dev-iris-classification-datalab/cloud_training/evaluation_model/saved_model.pb#1488321902767881...\n",
      "Removing gs://cloud-ml-dev-iris-classification-datalab/cloud_training/evaluation_model/variables/#1488321908132395...\n",
      "Removing gs://cloud-ml-dev-iris-classification-datalab/cloud_training/evaluation_model/variables/variables.data-00000-of-00001#1488321908966580...\n",
      "Removing gs://cloud-ml-dev-iris-classification-datalab/cloud_training/evaluation_model/variables/variables.index#1488321909804028...\n",
      "Removing gs://cloud-ml-dev-iris-classification-datalab/cloud_training/model/#1488321923383669...\n",
      "Removing gs://cloud-ml-dev-iris-classification-datalab/cloud_training/model/assets.extra/#1488321926105100...\n",
      "Removing gs://cloud-ml-dev-iris-classification-datalab/cloud_training/model/assets.extra/schema.json#1488321928408265...\n",
      "Removing gs://cloud-ml-dev-iris-classification-datalab/cloud_training/model/assets.extra/transforms.json#1488321929030690...\n",
      "Removing gs://cloud-ml-dev-iris-classification-datalab/cloud_training/model/assets.extra/vocab_flower.csv#1488321929626331...\n",
      "Removing gs://cloud-ml-dev-iris-classification-datalab/cloud_training/model/saved_model.pb#1488321924230899...\n",
      "Removing gs://cloud-ml-dev-iris-classification-datalab/cloud_training/model/variables/#1488321930475907...\n",
      "Removing gs://cloud-ml-dev-iris-classification-datalab/cloud_training/model/variables/variables.data-00000-of-00001#1488321931259558...\n",
      "Removing gs://cloud-ml-dev-iris-classification-datalab/cloud_training/model/variables/variables.index#1488321931885218...\n",
      "Removing gs://cloud-ml-dev-iris-classification-datalab/cloud_training/staging/sd.tar.gz#1488321245721861...\n",
      "Removing gs://cloud-ml-dev-iris-classification-datalab/cloud_training/train/#1488321866581909...\n",
      "Removing gs://cloud-ml-dev-iris-classification-datalab/cloud_training/train/checkpoint#1488321874315752...\n",
      "Removing gs://cloud-ml-dev-iris-classification-datalab/cloud_training/train/eval/#1488321795362733...\n",
      "Removing gs://cloud-ml-dev-iris-classification-datalab/cloud_training/train/eval/events.out.tfevents.1488321796.master-7182332ebf-0-g0lmt#1488321797647740...\n",
      "Removing gs://cloud-ml-dev-iris-classification-datalab/cloud_training/train/eval/events.out.tfevents.1488321880.master-7182332ebf-0-g0lmt#1488321881967415...\n",
      "Removing gs://cloud-ml-dev-iris-classification-datalab/cloud_training/train/events.out.tfevents.1488321757.master-7182332ebf-0-g0lmt#1488321877082900...\n",
      "Removing gs://cloud-ml-dev-iris-classification-datalab/cloud_training/train/export/#1488321889531916...\n",
      "Removing gs://cloud-ml-dev-iris-classification-datalab/cloud_training/train/export/intermediate_evaluation_models/#1488321889960298...\n",
      "Removing gs://cloud-ml-dev-iris-classification-datalab/cloud_training/train/export/intermediate_evaluation_models/1488321883090/#1488321890438447...\n",
      "Removing gs://cloud-ml-dev-iris-classification-datalab/cloud_training/train/export/intermediate_evaluation_models/1488321883090/assets.extra/#1488321898348595...\n",
      "Removing gs://cloud-ml-dev-iris-classification-datalab/cloud_training/train/export/intermediate_evaluation_models/1488321883090/assets.extra/schema.json#1488321899815089...\n",
      "Removing gs://cloud-ml-dev-iris-classification-datalab/cloud_training/train/export/intermediate_evaluation_models/1488321883090/assets.extra/transforms.json#1488321899015313...\n",
      "Removing gs://cloud-ml-dev-iris-classification-datalab/cloud_training/train/export/intermediate_evaluation_models/1488321883090/assets.extra/vocab_flower.csv#1488321901099096...\n",
      "Removing gs://cloud-ml-dev-iris-classification-datalab/cloud_training/train/export/intermediate_evaluation_models/1488321883090/saved_model.pb#1488321897707529...\n",
      "Removing gs://cloud-ml-dev-iris-classification-datalab/cloud_training/train/export/intermediate_evaluation_models/1488321883090/variables/#1488321894987123...\n",
      "Removing gs://cloud-ml-dev-iris-classification-datalab/cloud_training/train/export/intermediate_evaluation_models/1488321883090/variables/variables.data-00000-of-00001#1488321895793149...\n",
      "Removing gs://cloud-ml-dev-iris-classification-datalab/cloud_training/train/export/intermediate_evaluation_models/1488321883090/variables/variables.index#1488321896518886...\n",
      "Removing gs://cloud-ml-dev-iris-classification-datalab/cloud_training/train/export/intermediate_prediction_models/#1488321913060381...\n",
      "Removing gs://cloud-ml-dev-iris-classification-datalab/cloud_training/train/export/intermediate_prediction_models/1488321910860/#1488321913522686...\n",
      "Removing gs://cloud-ml-dev-iris-classification-datalab/cloud_training/train/export/intermediate_prediction_models/1488321910860/assets.extra/#1488321920092869...\n",
      "Removing gs://cloud-ml-dev-iris-classification-datalab/cloud_training/train/export/intermediate_prediction_models/1488321910860/assets.extra/schema.json#1488321921617603...\n",
      "Removing gs://cloud-ml-dev-iris-classification-datalab/cloud_training/train/export/intermediate_prediction_models/1488321910860/assets.extra/transforms.json#1488321920749055...\n",
      "Removing gs://cloud-ml-dev-iris-classification-datalab/cloud_training/train/export/intermediate_prediction_models/1488321910860/assets.extra/vocab_flower.csv#1488321922418429...\n",
      "Removing gs://cloud-ml-dev-iris-classification-datalab/cloud_training/train/export/intermediate_prediction_models/1488321910860/saved_model.pb#1488321919478008...\n",
      "Removing gs://cloud-ml-dev-iris-classification-datalab/cloud_training/train/export/intermediate_prediction_models/1488321910860/variables/#1488321917077666...\n",
      "Removing gs://cloud-ml-dev-iris-classification-datalab/cloud_training/train/export/intermediate_prediction_models/1488321910860/variables/variables.data-00000-of-00001#1488321917716143...\n",
      "Removing gs://cloud-ml-dev-iris-classification-datalab/cloud_training/train/export/intermediate_prediction_models/1488321910860/variables/variables.index#1488321918295694...\n",
      "Removing gs://cloud-ml-dev-iris-classification-datalab/cloud_training/train/graph.pbtxt#1488321760886789...\n",
      "Removing gs://cloud-ml-dev-iris-classification-datalab/cloud_training/train/model.ckpt-0.data-00000-of-00003#1488321770683238...\n",
      "Removing gs://cloud-ml-dev-iris-classification-datalab/cloud_training/train/model.ckpt-0.data-00001-of-00003#1488321770061879...\n",
      "Removing gs://cloud-ml-dev-iris-classification-datalab/cloud_training/train/model.ckpt-0.data-00002-of-00003#1488321769463738...\n",
      "Removing gs://cloud-ml-dev-iris-classification-datalab/cloud_training/train/model.ckpt-0.index#1488321771362197...\n",
      "Removing gs://cloud-ml-dev-iris-classification-datalab/cloud_training/train/model.ckpt-0.meta#1488321780732115...\n",
      "Removing gs://cloud-ml-dev-iris-classification-datalab/cloud_training/train/model.ckpt-2006.data-00000-of-00003#1488321869754248...\n",
      "Removing gs://cloud-ml-dev-iris-classification-datalab/cloud_training/train/model.ckpt-2006.data-00001-of-00003#1488321869153362...\n",
      "Removing gs://cloud-ml-dev-iris-classification-datalab/cloud_training/train/model.ckpt-2006.data-00002-of-00003#1488321867963026...\n",
      "Removing gs://cloud-ml-dev-iris-classification-datalab/cloud_training/train/model.ckpt-2006.index#1488321872696370...\n",
      "Removing gs://cloud-ml-dev-iris-classification-datalab/cloud_training/train/model.ckpt-2006.meta#1488321876287225...\n",
      "Removing gs://cloud-ml-dev-iris-classification-datalab/training/evaluation_model/assets.extra/schema.json#1488322072999559...\n",
      "Removing gs://cloud-ml-dev-iris-classification-datalab/training/evaluation_model/assets.extra/transforms.json#1488322073115410...\n",
      "Removing gs://cloud-ml-dev-iris-classification-datalab/training/evaluation_model/assets.extra/vocab_flower.csv#1488322074614239...\n",
      "Removing gs://cloud-ml-dev-iris-classification-datalab/training/evaluation_model/saved_model.pb#1488322073046518...\n",
      "Removing gs://cloud-ml-dev-iris-classification-datalab/training/evaluation_model/variables/variables.data-00000-of-00001#1488322073077008...\n",
      "Removing gs://cloud-ml-dev-iris-classification-datalab/training/evaluation_model/variables/variables.index#1488322073053813...\n",
      "Removing gs://cloud-ml-dev-iris-classification-datalab/training/model/assets.extra/schema.json#1488322073027310...\n",
      "Removing gs://cloud-ml-dev-iris-classification-datalab/training/model/assets.extra/transforms.json#1488322073076632...\n",
      "Removing gs://cloud-ml-dev-iris-classification-datalab/training/model/assets.extra/vocab_flower.csv#1488322073077576...\n",
      "Removing gs://cloud-ml-dev-iris-classification-datalab/training/model/saved_model.pb#1488322073701265...\n",
      "Removing gs://cloud-ml-dev-iris-classification-datalab/training/model/variables/variables.data-00000-of-00001#1488322073009051...\n",
      "Removing gs://cloud-ml-dev-iris-classification-datalab/training/model/variables/variables.index#1488322073053907...\n",
      "Removing gs://cloud-ml-dev-iris-classification-datalab/training/train/checkpoint#1488322073090127...\n",
      "Removing gs://cloud-ml-dev-iris-classification-datalab/training/train/eval/events.out.tfevents.1488320546.d9f01ebcdba5#1488322073359296...\n",
      "Removing gs://cloud-ml-dev-iris-classification-datalab/training/train/events.out.tfevents.1488320539.d9f01ebcdba5#1488322073331775...\n",
      "Removing gs://cloud-ml-dev-iris-classification-datalab/training/train/export/intermediate_evaluation_models/1488320546927/assets.extra/schema.json#1488322073161396...\n",
      "Removing gs://cloud-ml-dev-iris-classification-datalab/training/train/export/intermediate_evaluation_models/1488320546927/assets.extra/transforms.json#1488322073191909...\n",
      "Removing gs://cloud-ml-dev-iris-classification-datalab/training/train/export/intermediate_evaluation_models/1488320546927/assets.extra/vocab_flower.csv#1488322073178855...\n",
      "Removing gs://cloud-ml-dev-iris-classification-datalab/training/train/export/intermediate_evaluation_models/1488320546927/saved_model.pb#1488322073195363...\n",
      "Removing gs://cloud-ml-dev-iris-classification-datalab/training/train/export/intermediate_evaluation_models/1488320546927/variables/variables.data-00000-of-00001#1488322073153343...\n",
      "Removing gs://cloud-ml-dev-iris-classification-datalab/training/train/export/intermediate_evaluation_models/1488320546927/variables/variables.index#1488322073140351...\n",
      "Removing gs://cloud-ml-dev-iris-classification-datalab/training/train/export/intermediate_prediction_models/1488320547453/assets.extra/schema.json#1488322073159617...\n",
      "Removing gs://cloud-ml-dev-iris-classification-datalab/training/train/export/intermediate_prediction_models/1488320547453/assets.extra/transforms.json#1488322073434737...\n",
      "Removing gs://cloud-ml-dev-iris-classification-datalab/training/train/export/intermediate_prediction_models/1488320547453/assets.extra/vocab_flower.csv#1488322073163384...\n",
      "Removing gs://cloud-ml-dev-iris-classification-datalab/training/train/export/intermediate_prediction_models/1488320547453/saved_model.pb#1488322073121956...\n",
      "Removing gs://cloud-ml-dev-iris-classification-datalab/training/train/export/intermediate_prediction_models/1488320547453/variables/variables.data-00000-of-00001#1488322073161511...\n",
      "Removing gs://cloud-ml-dev-iris-classification-datalab/training/train/export/intermediate_prediction_models/1488320547453/variables/variables.index#1488322073191233...\n",
      "Removing gs://cloud-ml-dev-iris-classification-datalab/training/train/graph.pbtxt#1488322073327443...\n",
      "Removing gs://cloud-ml-dev-iris-classification-datalab/training/train/model.ckpt-1.data-00000-of-00001#1488322073077526...\n",
      "Removing gs://cloud-ml-dev-iris-classification-datalab/training/train/model.ckpt-1.index#1488322073097268...\n",
      "Removing gs://cloud-ml-dev-iris-classification-datalab/training/train/model.ckpt-1.meta#1488322073317360...\n",
      "Removing gs://cloud-ml-dev-iris-classification-datalab/training/train/model.ckpt-1000.data-00000-of-00001#1488322073076793...\n",
      "Removing gs://cloud-ml-dev-iris-classification-datalab/training/train/model.ckpt-1000.index#1488322073089777...\n",
      "Removing gs://cloud-ml-dev-iris-classification-datalab/training/train/model.ckpt-1000.meta#1488322073838835...\n",
      "Removing gs://cloud-ml-dev-iris-classification-datalab/training/transforms_file.json#1488322073040737...\n",
      "/ [102 objects]  4.24 objects/s                                                 \n",
      "==> NOTE: You are performing a sequence of gsutil operations that may\n",
      "run significantly faster if you instead use gsutil -m -o ... Please\n",
      "see the -m section under \"gsutil help options\" for further information\n",
      "about when gsutil -m can be advantageous.\n",
      "\n",
      "\n",
      "Operation completed over 102 objects.                                            \n",
      "Removing gs://cloud-ml-dev-iris-classification-datalab/...\n"
     ]
    }
   ],
   "source": [
    "#!gsutil rm -fr {CLOUD_ROOT}"
   ]
  },
  {
   "cell_type": "markdown",
   "metadata": {},
   "source": [
    "To delete the models created, uncomment and run the next cell."
   ]
  },
  {
   "cell_type": "code",
   "execution_count": 14,
   "metadata": {
    "collapsed": false
   },
   "outputs": [
    {
     "name": "stdout",
     "output_type": "stream",
     "text": [
      "Deleting version [v1]......done.\n",
      "Deleting model [iris_model]...done.\n"
     ]
    }
   ],
   "source": [
    "!gcloud beta ml versions delete v1 --model iris_model \n",
    "!gcloud beta ml models delete iris_model "
   ]
  },
  {
   "cell_type": "code",
   "execution_count": null,
   "metadata": {
    "collapsed": true
   },
   "outputs": [],
   "source": []
  }
 ],
 "metadata": {
  "kernelspec": {
   "display_name": "Python 2",
   "language": "python",
   "name": "python2"
  },
  "language_info": {
   "codemirror_mode": {
    "name": "ipython",
    "version": 2
   },
   "file_extension": ".py",
   "mimetype": "text/x-python",
   "name": "python",
   "nbconvert_exporter": "python",
   "pygments_lexer": "ipython2",
   "version": "2.7.9"
  }
 },
 "nbformat": 4,
 "nbformat_minor": 2
}
